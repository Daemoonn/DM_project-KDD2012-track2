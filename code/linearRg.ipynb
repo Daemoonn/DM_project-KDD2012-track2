{
 "cells": [
  {
   "cell_type": "code",
   "execution_count": 1,
   "metadata": {
    "ExecuteTime": {
     "end_time": "2018-12-31T11:45:40.191701Z",
     "start_time": "2018-12-31T11:45:36.321759Z"
    },
    "collapsed": true
   },
   "outputs": [],
   "source": [
    "import numpy as np\n",
    "import pandas as pd\n",
    "from properties import *\n",
    "from sklearn.model_selection import train_test_split\n",
    "# from sklearn.svm import LinearSVR\n",
    "from sklearn.metrics import classification_report\n",
    "from sklearn.metrics import confusion_matrix\n",
    "from sklearn.linear_model import LinearRegression\n",
    "import joblib\n",
    "import gc\n",
    "import os"
   ]
  },
  {
   "cell_type": "code",
   "execution_count": null,
   "metadata": {
    "ExecuteTime": {
     "start_time": "2018-12-31T11:45:25.754Z"
    }
   },
   "outputs": [],
   "source": [
    "training = None\n",
    "if os.path.exists(PATH_DATA + 'training.pkl'):\n",
    "    training = pd.read_pickle(PATH_DATA + 'training.pkl')\n",
    "\n",
    "# training = training.sample(n=50000000, random_state=42, axis=0)\n",
    "\n",
    "# joblib.dump(training, './data/training_sampling_5000,0000.pkl')"
   ]
  },
  {
   "cell_type": "code",
   "execution_count": null,
   "metadata": {
    "ExecuteTime": {
     "start_time": "2018-12-31T11:45:25.757Z"
    },
    "collapsed": true
   },
   "outputs": [],
   "source": [
    "def scoreClickAUC(num_clicks, num_impressions, predicted_ctr):\n",
    "    \"\"\"\n",
    "    Calculates the area under the ROC curve (AUC) for click rates\n",
    "    \n",
    "    Parameters\n",
    "    ----------\n",
    "    num_clicks : a list containing the number of clicks\n",
    "\n",
    "    num_impressions : a list containing the number of impressions\n",
    "\n",
    "    predicted_ctr : a list containing the predicted click-through rates\n",
    "\n",
    "    Returns\n",
    "    -------\n",
    "    auc : the area under the ROC curve (AUC) for click rates\n",
    "    \"\"\"\n",
    "    i_sorted = sorted(range(len(predicted_ctr)),key=lambda i: predicted_ctr[i],\n",
    "                      reverse=True)\n",
    "    auc_temp = 0.0\n",
    "    click_sum = 0.0\n",
    "    old_click_sum = 0.0\n",
    "    no_click = 0.0\n",
    "    no_click_sum = 0.0\n",
    "\n",
    "    # treat all instances with the same predicted_ctr as coming from the\n",
    "    # same bucket\n",
    "    last_ctr = predicted_ctr[i_sorted[0]] + 1.0\n",
    "\n",
    "    print('Start eval:')\n",
    "    for i in range(len(predicted_ctr)):\n",
    "        if i % 10000 == 0:\n",
    "            print(i)\n",
    "        if last_ctr != predicted_ctr[i_sorted[i]]: \n",
    "            auc_temp += (click_sum+old_click_sum) * no_click / 2.0        \n",
    "            old_click_sum = click_sum\n",
    "            no_click = 0.0\n",
    "            last_ctr = predicted_ctr[i_sorted[i]]\n",
    "        no_click += num_impressions[i_sorted[i]] - num_clicks[i_sorted[i]]\n",
    "        no_click_sum += num_impressions[i_sorted[i]] - num_clicks[i_sorted[i]]\n",
    "        click_sum += num_clicks[i_sorted[i]]\n",
    "    auc_temp += (click_sum+old_click_sum) * no_click / 2.0\n",
    "    auc = auc_temp / (click_sum * no_click_sum)\n",
    "    return auc"
   ]
  },
  {
   "cell_type": "code",
   "execution_count": null,
   "metadata": {
    "ExecuteTime": {
     "start_time": "2018-12-31T11:45:25.759Z"
    },
    "collapsed": true
   },
   "outputs": [],
   "source": [
    "# training = joblib.load('./data/training_sampling_2000,0000.pkl')"
   ]
  },
  {
   "cell_type": "code",
   "execution_count": null,
   "metadata": {
    "ExecuteTime": {
     "start_time": "2018-12-31T11:45:25.762Z"
    }
   },
   "outputs": [],
   "source": [
    "# 0.25左右是未知用户\n",
    "len(training[training['userid'] == 0])"
   ]
  },
  {
   "cell_type": "code",
   "execution_count": null,
   "metadata": {
    "ExecuteTime": {
     "start_time": "2018-12-31T11:45:25.765Z"
    }
   },
   "outputs": [],
   "source": [
    "len(training[training['userid'] > 0])"
   ]
  },
  {
   "cell_type": "code",
   "execution_count": null,
   "metadata": {
    "ExecuteTime": {
     "start_time": "2018-12-31T11:45:25.767Z"
    },
    "collapsed": true
   },
   "outputs": [],
   "source": [
    "pCTR_Ad = training.groupby(['adid']).agg({'click': np.sum, 'impression': np.sum}).reset_index()\n",
    "\n",
    "pCTR_Ad['pCTR_Ad'] = (pCTR_Ad['click'] + 0.05 * 75) / (pCTR_Ad['impression'] + 75)\n",
    "pCTR_Ad = pCTR_Ad.drop(['click', 'impression'], axis=1)\n",
    "\n",
    "training = training.merge(pCTR_Ad, on='adid', how='left')"
   ]
  },
  {
   "cell_type": "code",
   "execution_count": null,
   "metadata": {
    "ExecuteTime": {
     "start_time": "2018-12-31T11:45:25.770Z"
    },
    "collapsed": true
   },
   "outputs": [],
   "source": [
    "pCTR_Advertiser = training.groupby(['advertiserid']).agg({'click': np.sum, 'impression': np.sum}).reset_index()\n",
    "\n",
    "pCTR_Advertiser['pCTR_Advertiser'] = (pCTR_Advertiser['click'] + 0.05 * 75) / (pCTR_Advertiser['impression'] + 75)\n",
    "pCTR_Advertiser = pCTR_Advertiser.drop(['click', 'impression'], axis=1)\n",
    "\n",
    "training = training.merge(pCTR_Advertiser, on='advertiserid', how='left')"
   ]
  },
  {
   "cell_type": "code",
   "execution_count": null,
   "metadata": {
    "ExecuteTime": {
     "start_time": "2018-12-31T11:45:25.773Z"
    },
    "collapsed": true
   },
   "outputs": [],
   "source": [
    "pCTR_Query = training.groupby(['queryid']).agg({'click': np.sum, 'impression': np.sum}).reset_index()\n",
    "\n",
    "pCTR_Query['pCTR_Query'] = (pCTR_Query['click'] + 0.05 * 75) / (pCTR_Query['impression'] + 75)\n",
    "pCTR_Query = pCTR_Query.drop(['click', 'impression'], axis=1)\n",
    "\n",
    "training = training.merge(pCTR_Query, on='queryid', how='left')"
   ]
  },
  {
   "cell_type": "code",
   "execution_count": null,
   "metadata": {
    "ExecuteTime": {
     "start_time": "2018-12-31T11:45:25.775Z"
    },
    "collapsed": true,
    "scrolled": true
   },
   "outputs": [],
   "source": [
    "pCTR_Title = training.groupby(['titleid']).agg({'click': np.sum, 'impression': np.sum}).reset_index()\n",
    "\n",
    "pCTR_Title['pCTR_Title'] = (pCTR_Title['click'] + 0.05 * 75) / (pCTR_Title['impression'] + 75)\n",
    "pCTR_Title = pCTR_Title.drop(['click', 'impression'], axis=1)\n",
    "\n",
    "training = training.merge(pCTR_Title, on='titleid', how='left')"
   ]
  },
  {
   "cell_type": "code",
   "execution_count": null,
   "metadata": {
    "ExecuteTime": {
     "start_time": "2018-12-31T11:45:25.778Z"
    },
    "collapsed": true
   },
   "outputs": [],
   "source": [
    "pCTR_Description = training.groupby(['descriptionid']).agg({'click': np.sum, 'impression': np.sum}).reset_index()\n",
    "\n",
    "pCTR_Description['pCTR_Description'] = (pCTR_Description['click'] + 0.05 * 75) / (pCTR_Description['impression'] + 75)\n",
    "pCTR_Description = pCTR_Description.drop(['click', 'impression'], axis=1)\n",
    "\n",
    "training = training.merge(pCTR_Description, on='descriptionid', how='left')"
   ]
  },
  {
   "cell_type": "code",
   "execution_count": null,
   "metadata": {
    "ExecuteTime": {
     "start_time": "2018-12-31T11:45:25.780Z"
    },
    "collapsed": true
   },
   "outputs": [],
   "source": [
    "pCTR_User = training.groupby(['userid']).agg({'click': np.sum, 'impression': np.sum}).reset_index()\n",
    "\n",
    "pCTR_User['pCTR_User'] = (pCTR_User['click'] + 0.05 * 75) / (pCTR_User['impression'] + 75)\n",
    "pCTR_User = pCTR_User.drop(['click', 'impression'], axis=1)\n",
    "\n",
    "training = training.merge(pCTR_User, on='userid', how='left')"
   ]
  },
  {
   "cell_type": "code",
   "execution_count": null,
   "metadata": {
    "ExecuteTime": {
     "start_time": "2018-12-31T11:45:25.782Z"
    },
    "collapsed": true
   },
   "outputs": [],
   "source": [
    "pCTR_Keyword = training.groupby(['keywordid']).agg({'click': np.sum, 'impression': np.sum}).reset_index()\n",
    "\n",
    "pCTR_Keyword['pCTR_Keyword'] = (pCTR_Keyword['click'] + 0.05 * 75) / (pCTR_Keyword['impression'] + 75)\n",
    "pCTR_Keyword = pCTR_Keyword.drop(['click', 'impression'], axis=1)\n",
    "\n",
    "training = training.merge(pCTR_Keyword, on='keywordid', how='left')"
   ]
  },
  {
   "cell_type": "code",
   "execution_count": null,
   "metadata": {
    "ExecuteTime": {
     "start_time": "2018-12-31T11:45:25.784Z"
    },
    "collapsed": true
   },
   "outputs": [],
   "source": [
    "pCTR_Url = training.groupby(['displayurl']).agg({'click': np.sum, 'impression': np.sum}).reset_index()\n",
    "\n",
    "pCTR_Url['pCTR_Url'] = (pCTR_Url['click'] + 0.05 * 75) / (pCTR_Url['impression'] + 75)\n",
    "pCTR_Url = pCTR_Url.drop(['click', 'impression'], axis=1)\n",
    "\n",
    "training = training.merge(pCTR_Url, on='displayurl', how='left')"
   ]
  },
  {
   "cell_type": "code",
   "execution_count": null,
   "metadata": {
    "ExecuteTime": {
     "start_time": "2018-12-31T11:45:25.786Z"
    },
    "collapsed": true
   },
   "outputs": [],
   "source": [
    "training['ctr'] = (training['click'] + 0.05 * 75) / (training['impression'] + 75)"
   ]
  },
  {
   "cell_type": "code",
   "execution_count": null,
   "metadata": {
    "ExecuteTime": {
     "start_time": "2018-12-31T11:45:25.788Z"
    },
    "collapsed": true
   },
   "outputs": [],
   "source": [
    "# ((training['depth'] - training['position']) / training['depth']).value_counts()"
   ]
  },
  {
   "cell_type": "code",
   "execution_count": null,
   "metadata": {
    "ExecuteTime": {
     "start_time": "2018-12-31T11:45:25.791Z"
    },
    "collapsed": true
   },
   "outputs": [],
   "source": [
    "training['RPosition'] = (training['depth'] - training['position']) / training['depth']"
   ]
  },
  {
   "cell_type": "code",
   "execution_count": null,
   "metadata": {
    "ExecuteTime": {
     "start_time": "2018-12-31T11:45:25.793Z"
    },
    "collapsed": true
   },
   "outputs": [],
   "source": [
    "pCTR_RPosition = training.groupby(['RPosition']).agg({'click': np.sum, 'impression': np.sum}).reset_index()\n",
    "\n",
    "pCTR_RPosition['pCTR_RPosition'] = (pCTR_RPosition['click'] + 0.05 * 75) / (pCTR_RPosition['impression'] + 75)\n",
    "pCTR_RPosition = pCTR_RPosition.drop(['click', 'impression'], axis=1)\n",
    "\n",
    "training = training.merge(pCTR_RPosition, on='RPosition', how='left')"
   ]
  },
  {
   "cell_type": "code",
   "execution_count": null,
   "metadata": {
    "ExecuteTime": {
     "start_time": "2018-12-31T11:45:25.795Z"
    },
    "collapsed": true
   },
   "outputs": [],
   "source": [
    "# (training.shape[0] - training.count()) / training.shape[0]"
   ]
  },
  {
   "cell_type": "code",
   "execution_count": null,
   "metadata": {
    "ExecuteTime": {
     "start_time": "2018-12-31T11:45:25.796Z"
    },
    "collapsed": true
   },
   "outputs": [],
   "source": [
    "userid_profile = None\n",
    "if os.path.exists(PATH_DATA + 'userid_profile.pkl'):\n",
    "    userid_profile = pd.read_pickle(PATH_DATA + 'userid_profile.pkl')\n",
    "else:\n",
    "    userid_profile = pd.read_csv(PATH_ABOVE + '/track2/' + 'userid_profile.txt', header=None, sep='\\t', nrows=None)\n",
    "    userid_profile.columns = ['userid', 'gender', 'age']\n",
    "    userid_profile.to_pickle(PATH_DATA + 'userid_profile.pkl')"
   ]
  },
  {
   "cell_type": "code",
   "execution_count": null,
   "metadata": {
    "ExecuteTime": {
     "start_time": "2018-12-31T11:45:25.799Z"
    },
    "collapsed": true
   },
   "outputs": [],
   "source": [
    "training = training.merge(userid_profile, on='userid', how='left')"
   ]
  },
  {
   "cell_type": "code",
   "execution_count": null,
   "metadata": {
    "ExecuteTime": {
     "start_time": "2018-12-31T11:45:25.801Z"
    },
    "collapsed": true
   },
   "outputs": [],
   "source": [
    "# gender: 3对应NAN，age: 0对应NAN\n",
    "values = {'gender': 3, 'age': 0}\n",
    "training = training.fillna(value=values)"
   ]
  },
  {
   "cell_type": "code",
   "execution_count": null,
   "metadata": {
    "ExecuteTime": {
     "start_time": "2018-12-31T11:45:25.804Z"
    },
    "collapsed": true
   },
   "outputs": [],
   "source": [
    "training_not_zero = training[training['userid'] != 0]"
   ]
  },
  {
   "cell_type": "code",
   "execution_count": null,
   "metadata": {
    "ExecuteTime": {
     "start_time": "2018-12-31T11:45:25.805Z"
    },
    "collapsed": true
   },
   "outputs": [],
   "source": [
    "training_zero = training[training['userid'] == 0]"
   ]
  },
  {
   "cell_type": "code",
   "execution_count": null,
   "metadata": {
    "ExecuteTime": {
     "start_time": "2018-12-31T11:45:25.807Z"
    },
    "collapsed": true
   },
   "outputs": [],
   "source": [
    "pCTR_Gender = training_not_zero.groupby(['gender']).agg({'click': np.sum, 'impression': np.sum}).reset_index()\n",
    "\n",
    "pCTR_Gender['pCTR_Gender'] = (pCTR_Gender['click'] + 0.05 * 75) / (pCTR_Gender['impression'] + 75)\n",
    "pCTR_Gender = pCTR_Gender.drop(['click', 'impression'], axis=1)\n",
    "\n",
    "training_not_zero = training_not_zero.merge(pCTR_Gender, on='gender', how='left')\n",
    "\n",
    "\n",
    "pCTR_Age = training_not_zero.groupby(['age']).agg({'click': np.sum, 'impression': np.sum}).reset_index()\n",
    "\n",
    "pCTR_Age['pCTR_Age'] = (pCTR_Age['click'] + 0.05 * 75) / (pCTR_Age['impression'] + 75)\n",
    "pCTR_Age = pCTR_Age.drop(['click', 'impression'], axis=1)\n",
    "\n",
    "training_not_zero = training_not_zero.merge(pCTR_Age, on='age', how='left')"
   ]
  },
  {
   "cell_type": "code",
   "execution_count": null,
   "metadata": {
    "ExecuteTime": {
     "start_time": "2018-12-31T11:45:25.810Z"
    },
    "collapsed": true
   },
   "outputs": [],
   "source": [
    "# (training_zero.shape[0] - training_zero.count()) / training_zero.shape[0]"
   ]
  },
  {
   "cell_type": "code",
   "execution_count": null,
   "metadata": {
    "ExecuteTime": {
     "start_time": "2018-12-31T11:45:25.811Z"
    },
    "collapsed": true
   },
   "outputs": [],
   "source": [
    "test = None\n",
    "if os.path.exists(PATH_DATA + 'test.pkl'):\n",
    "    test = pd.read_pickle(PATH_DATA + 'test.pkl')\n",
    "else:\n",
    "    test = pd.read_csv(PATH_ABOVE + 'test.txt', header=None, sep='\\t', nrows=None)\n",
    "    test.columns = ['displayurl', 'adid', 'advertiserid', 'depth', 'position',\n",
    "                    'queryid', 'keywordid', 'titleid', 'descriptionid', 'userid']\n",
    "    test.to_pickle(PATH_DATA + 'test.pkl')"
   ]
  },
  {
   "cell_type": "code",
   "execution_count": null,
   "metadata": {
    "ExecuteTime": {
     "start_time": "2018-12-31T11:45:25.814Z"
    },
    "collapsed": true
   },
   "outputs": [],
   "source": [
    "test['i_id'] = pd.Series([x for x in range(len(test))])"
   ]
  },
  {
   "cell_type": "code",
   "execution_count": null,
   "metadata": {
    "ExecuteTime": {
     "start_time": "2018-12-31T11:45:25.816Z"
    },
    "collapsed": true
   },
   "outputs": [],
   "source": [
    "solution = pd.read_csv('./data/KDD_Track2_solution.csv')\n",
    "num_clicks = solution['clicks']\n",
    "num_impressions = solution['impressions']"
   ]
  },
  {
   "cell_type": "code",
   "execution_count": null,
   "metadata": {
    "ExecuteTime": {
     "start_time": "2018-12-31T11:45:25.819Z"
    },
    "collapsed": true
   },
   "outputs": [],
   "source": [
    "test['click'] = pd.Series(num_clicks)\n",
    "test['impression'] = pd.Series(num_impressions)"
   ]
  },
  {
   "cell_type": "code",
   "execution_count": null,
   "metadata": {
    "ExecuteTime": {
     "start_time": "2018-12-31T11:45:25.821Z"
    },
    "collapsed": true
   },
   "outputs": [],
   "source": [
    "test['RPosition'] = (test['depth'] - test['position']) / test['depth']"
   ]
  },
  {
   "cell_type": "code",
   "execution_count": null,
   "metadata": {
    "ExecuteTime": {
     "start_time": "2018-12-31T11:45:25.822Z"
    },
    "collapsed": true
   },
   "outputs": [],
   "source": [
    "test = test.merge(userid_profile, on='userid', how='left')"
   ]
  },
  {
   "cell_type": "code",
   "execution_count": null,
   "metadata": {
    "ExecuteTime": {
     "start_time": "2018-12-31T11:45:25.825Z"
    },
    "collapsed": true
   },
   "outputs": [],
   "source": [
    "values = {'gender': 3, 'age': 0}\n",
    "test = test.fillna(value=values)"
   ]
  },
  {
   "cell_type": "code",
   "execution_count": null,
   "metadata": {
    "ExecuteTime": {
     "start_time": "2018-12-31T11:45:25.827Z"
    },
    "collapsed": true
   },
   "outputs": [],
   "source": [
    "test_not_zero = test[test['userid'] != 0]\n",
    "test_zero = test[test['userid'] == 0]"
   ]
  },
  {
   "cell_type": "code",
   "execution_count": null,
   "metadata": {
    "ExecuteTime": {
     "start_time": "2018-12-31T11:45:25.830Z"
    },
    "collapsed": true
   },
   "outputs": [],
   "source": [
    "# X = training[['pCTR_Ad', 'pCTR_Advertiser', 'pCTR_Query', 'pCTR_Title', 'pCTR_Description', 'pCTR_User', 'pCTR_Keyword', 'pCTR_Url', 'pCTR_RPosition', 'pCTR_Gender', 'pCTR_Age']]\n",
    "# y = training[['click', 'impression', 'ctr']]\n",
    "test_not_zero = test_not_zero[['i_id', 'click', 'impression', 'adid', 'advertiserid', 'queryid', 'titleid', 'descriptionid', 'userid', 'keywordid', 'displayurl', 'RPosition', 'gender', 'age']]"
   ]
  },
  {
   "cell_type": "code",
   "execution_count": null,
   "metadata": {
    "ExecuteTime": {
     "start_time": "2018-12-31T11:45:25.832Z"
    },
    "collapsed": true
   },
   "outputs": [],
   "source": [
    "test_zero = test_zero[['i_id', 'click', 'impression', 'adid', 'advertiserid', 'queryid', 'titleid', 'descriptionid', 'keywordid', 'displayurl', 'RPosition']]"
   ]
  },
  {
   "cell_type": "code",
   "execution_count": null,
   "metadata": {
    "ExecuteTime": {
     "start_time": "2018-12-31T11:45:25.834Z"
    },
    "collapsed": true
   },
   "outputs": [],
   "source": [
    "test_not_zero = test_not_zero.merge(pCTR_Ad, on='adid', how='left')\n",
    "test_not_zero = test_not_zero.merge(pCTR_Advertiser, on='advertiserid', how='left')\n",
    "test_not_zero = test_not_zero.merge(pCTR_Query, on='queryid', how='left')\n",
    "test_not_zero = test_not_zero.merge(pCTR_Title, on='titleid', how='left')\n",
    "test_not_zero = test_not_zero.merge(pCTR_Description, on='descriptionid', how='left')\n",
    "test_not_zero = test_not_zero.merge(pCTR_User, on='userid', how='left')\n",
    "test_not_zero = test_not_zero.merge(pCTR_Keyword, on='keywordid', how='left')\n",
    "test_not_zero = test_not_zero.merge(pCTR_Url, on='displayurl', how='left')\n",
    "\n",
    "test_not_zero = test_not_zero.merge(pCTR_RPosition, on='RPosition', how='left')\n",
    "test_not_zero = test_not_zero.merge(pCTR_Gender, on='gender', how='left')\n",
    "test_not_zero = test_not_zero.merge(pCTR_Age, on='age', how='left')"
   ]
  },
  {
   "cell_type": "code",
   "execution_count": null,
   "metadata": {
    "ExecuteTime": {
     "start_time": "2018-12-31T11:45:25.837Z"
    },
    "collapsed": true
   },
   "outputs": [],
   "source": [
    "test_zero = test_zero.merge(pCTR_Ad, on='adid', how='left')\n",
    "test_zero = test_zero.merge(pCTR_Advertiser, on='advertiserid', how='left')\n",
    "test_zero = test_zero.merge(pCTR_Query, on='queryid', how='left')\n",
    "test_zero = test_zero.merge(pCTR_Title, on='titleid', how='left')\n",
    "test_zero = test_zero.merge(pCTR_Description, on='descriptionid', how='left')\n",
    "# test_zero = test_zero.merge(pCTR_User, on='userid', how='left')\n",
    "test_zero = test_zero.merge(pCTR_Keyword, on='keywordid', how='left')\n",
    "test_zero = test_zero.merge(pCTR_Url, on='displayurl', how='left')\n",
    "\n",
    "test_zero = test_zero.merge(pCTR_RPosition, on='RPosition', how='left')\n",
    "# test_zero = test_zero.merge(pCTR_Gender, on='gender', how='left')\n",
    "# test_zero = test_zero.merge(pCTR_Age, on='age', how='left')"
   ]
  },
  {
   "cell_type": "code",
   "execution_count": null,
   "metadata": {
    "ExecuteTime": {
     "start_time": "2018-12-31T11:45:25.839Z"
    },
    "collapsed": true
   },
   "outputs": [],
   "source": [
    "test_y = test_not_zero[['i_id', 'click', 'impression']]"
   ]
  },
  {
   "cell_type": "code",
   "execution_count": null,
   "metadata": {
    "ExecuteTime": {
     "start_time": "2018-12-31T11:45:25.841Z"
    },
    "collapsed": true
   },
   "outputs": [],
   "source": [
    "test_y_zero = test_zero[['i_id', 'click', 'impression']]"
   ]
  },
  {
   "cell_type": "code",
   "execution_count": null,
   "metadata": {
    "ExecuteTime": {
     "start_time": "2018-12-31T11:45:25.843Z"
    },
    "collapsed": true
   },
   "outputs": [],
   "source": [
    "values = {'pCTR_Ad': pCTR_Ad['pCTR_Ad'].mean(), 'pCTR_Advertiser': pCTR_Advertiser['pCTR_Advertiser'].mean(), \n",
    "         'pCTR_Query': pCTR_Query['pCTR_Query'].mean(), 'pCTR_Title': pCTR_Title['pCTR_Title'].mean(), \n",
    "         'pCTR_Description': pCTR_Description['pCTR_Description'].mean(), 'pCTR_User': pCTR_User['pCTR_User'].mean(), 'pCTR_Keyword': \n",
    "         pCTR_Keyword['pCTR_Keyword'].mean(), 'pCTR_Url': pCTR_Url['pCTR_Url'].mean()}\n",
    "test_fillna = test_not_zero.fillna(value=values)"
   ]
  },
  {
   "cell_type": "code",
   "execution_count": null,
   "metadata": {
    "ExecuteTime": {
     "start_time": "2018-12-31T11:45:25.845Z"
    },
    "collapsed": true
   },
   "outputs": [],
   "source": [
    "values = {'pCTR_Ad': pCTR_Ad['pCTR_Ad'].mean(), 'pCTR_Advertiser': pCTR_Advertiser['pCTR_Advertiser'].mean(), \n",
    "         'pCTR_Query': pCTR_Query['pCTR_Query'].mean(), 'pCTR_Title': pCTR_Title['pCTR_Title'].mean(), \n",
    "         'pCTR_Description': pCTR_Description['pCTR_Description'].mean(), 'pCTR_Keyword': \n",
    "         pCTR_Keyword['pCTR_Keyword'].mean(), 'pCTR_Url': pCTR_Url['pCTR_Url'].mean()}\n",
    "test_fillna_zero = test_zero.fillna(value=values)"
   ]
  },
  {
   "cell_type": "code",
   "execution_count": null,
   "metadata": {
    "ExecuteTime": {
     "start_time": "2018-12-31T11:45:25.847Z"
    },
    "collapsed": true
   },
   "outputs": [],
   "source": [
    "del [pCTR_Ad, pCTR_Advertiser, pCTR_Query, pCTR_Title, pCTR_Description, pCTR_User, pCTR_Keyword, pCTR_Url]\n",
    "gc.collect()"
   ]
  },
  {
   "cell_type": "code",
   "execution_count": null,
   "metadata": {
    "ExecuteTime": {
     "start_time": "2018-12-31T11:45:25.850Z"
    },
    "collapsed": true
   },
   "outputs": [],
   "source": [
    "test_fillna_feat = test_fillna[['pCTR_Ad', 'pCTR_Advertiser', 'pCTR_Query', 'pCTR_Title', 'pCTR_Description', 'pCTR_User', \n",
    "                                        'pCTR_Keyword', 'pCTR_Url', 'pCTR_RPosition', 'pCTR_Gender', 'pCTR_Age']]"
   ]
  },
  {
   "cell_type": "code",
   "execution_count": null,
   "metadata": {
    "ExecuteTime": {
     "start_time": "2018-12-31T11:45:25.851Z"
    },
    "collapsed": true
   },
   "outputs": [],
   "source": [
    "test_fillna_feat_zero = test_fillna_zero[['pCTR_Ad', 'pCTR_Advertiser', 'pCTR_Query', 'pCTR_Title', 'pCTR_Description', \n",
    "                                        'pCTR_Keyword', 'pCTR_Url', 'pCTR_RPosition']]"
   ]
  },
  {
   "cell_type": "code",
   "execution_count": null,
   "metadata": {
    "ExecuteTime": {
     "start_time": "2018-12-31T11:45:25.854Z"
    },
    "collapsed": true
   },
   "outputs": [],
   "source": [
    "(test_fillna_feat.shape[0] - test_fillna_feat.count()) / test_fillna_feat.shape[0]"
   ]
  },
  {
   "cell_type": "code",
   "execution_count": null,
   "metadata": {
    "ExecuteTime": {
     "start_time": "2018-12-31T11:45:25.856Z"
    },
    "collapsed": true
   },
   "outputs": [],
   "source": [
    "(test_fillna_feat_zero.shape[0] - test_fillna_feat_zero.count()) / test_fillna_feat_zero.shape[0]"
   ]
  },
  {
   "cell_type": "code",
   "execution_count": null,
   "metadata": {
    "ExecuteTime": {
     "start_time": "2018-12-31T11:45:25.858Z"
    },
    "collapsed": true
   },
   "outputs": [],
   "source": [
    "X = training_not_zero[['pCTR_Ad', 'pCTR_Advertiser', 'pCTR_Query', 'pCTR_Title', 'pCTR_Description', 'pCTR_User', 'pCTR_Keyword', 'pCTR_Url', 'pCTR_RPosition', 'pCTR_Gender', 'pCTR_Age']]\n",
    "y = training_not_zero[['click', 'impression', 'ctr']]"
   ]
  },
  {
   "cell_type": "code",
   "execution_count": null,
   "metadata": {
    "ExecuteTime": {
     "start_time": "2018-12-31T11:45:25.859Z"
    },
    "collapsed": true
   },
   "outputs": [],
   "source": [
    "X_zero = training_zero[['pCTR_Ad', 'pCTR_Advertiser', 'pCTR_Query', 'pCTR_Title', 'pCTR_Description', 'pCTR_Keyword', 'pCTR_Url', 'pCTR_RPosition']]\n",
    "y_zero = training_zero[['click', 'impression', 'ctr']]"
   ]
  },
  {
   "cell_type": "code",
   "execution_count": null,
   "metadata": {
    "ExecuteTime": {
     "start_time": "2018-12-31T11:45:25.862Z"
    },
    "collapsed": true
   },
   "outputs": [],
   "source": [
    "X_train, X_test, y_train, y_test = train_test_split(X, y, test_size=0.1, random_state=42)"
   ]
  },
  {
   "cell_type": "code",
   "execution_count": null,
   "metadata": {
    "ExecuteTime": {
     "start_time": "2018-12-31T11:45:25.864Z"
    },
    "collapsed": true
   },
   "outputs": [],
   "source": [
    "X_train_zero, X_test_zero, y_train_zero, y_test_zero = train_test_split(X_zero, y_zero, test_size=0.2, random_state=42)"
   ]
  },
  {
   "cell_type": "code",
   "execution_count": null,
   "metadata": {
    "ExecuteTime": {
     "start_time": "2018-12-31T11:45:25.868Z"
    }
   },
   "outputs": [],
   "source": [
    "del X\n",
    "del y\n",
    "del X_zero\n",
    "del y_zero\n",
    "del training\n",
    "gc.collect()"
   ]
  },
  {
   "cell_type": "code",
   "execution_count": null,
   "metadata": {
    "ExecuteTime": {
     "start_time": "2018-12-31T11:45:25.870Z"
    },
    "collapsed": true
   },
   "outputs": [],
   "source": [
    "# len(X_train), len(X_test)"
   ]
  },
  {
   "cell_type": "code",
   "execution_count": null,
   "metadata": {
    "ExecuteTime": {
     "start_time": "2018-12-31T11:45:25.872Z"
    },
    "collapsed": true
   },
   "outputs": [],
   "source": [
    "# len(X_train_zero), len(X_test_zero)"
   ]
  },
  {
   "cell_type": "code",
   "execution_count": null,
   "metadata": {
    "ExecuteTime": {
     "start_time": "2018-12-31T11:45:25.874Z"
    },
    "collapsed": true
   },
   "outputs": [],
   "source": [
    "clf = LinearRegression(n_jobs=-1)\n",
    "\n",
    "clf_zero = LinearRegression(n_jobs=-1)"
   ]
  },
  {
   "cell_type": "code",
   "execution_count": null,
   "metadata": {
    "ExecuteTime": {
     "start_time": "2018-12-31T11:45:25.878Z"
    }
   },
   "outputs": [],
   "source": [
    "clf.fit(X_train, y_train['ctr'])"
   ]
  },
  {
   "cell_type": "code",
   "execution_count": null,
   "metadata": {
    "ExecuteTime": {
     "start_time": "2018-12-31T11:45:25.882Z"
    }
   },
   "outputs": [],
   "source": [
    "clf_zero.fit(X_train_zero, y_train_zero['ctr'])"
   ]
  },
  {
   "cell_type": "code",
   "execution_count": null,
   "metadata": {
    "ExecuteTime": {
     "start_time": "2018-12-31T11:45:25.884Z"
    },
    "scrolled": true
   },
   "outputs": [],
   "source": [
    "prob_pre = clf.predict(X_test)\n",
    "\n",
    "# num_clicks, num_impressions = read_solution_file('./data/KDD_Track2_solution.csv')\n",
    "\n",
    "num_clicks = list(y_test['click'])\n",
    "num_impressions = list(y_test['impression'])\n",
    "\n",
    "auc = scoreClickAUC(num_clicks, num_impressions, prob_pre)\n",
    "print(\"AUC  : %f\" % auc)\n",
    "del prob_pre\n",
    "gc.collect()"
   ]
  },
  {
   "cell_type": "code",
   "execution_count": null,
   "metadata": {
    "ExecuteTime": {
     "start_time": "2018-12-31T11:45:25.886Z"
    },
    "scrolled": true
   },
   "outputs": [],
   "source": [
    "prob_pre_zero = clf_zero.predict(X_test_zero)\n",
    "\n",
    "# num_clicks, num_impressions = read_solution_file('./data/KDD_Track2_solution.csv')\n",
    "\n",
    "num_clicks_zero = list(y_test_zero['click'])\n",
    "num_impressions_zero = list(y_test_zero['impression'])\n",
    "\n",
    "auc_zero = scoreClickAUC(num_clicks_zero, num_impressions_zero, prob_pre_zero)\n",
    "print(\"AUC  : %f\" % auc_zero)\n",
    "del prob_pre_zero\n",
    "gc.collect()"
   ]
  },
  {
   "cell_type": "code",
   "execution_count": null,
   "metadata": {
    "ExecuteTime": {
     "start_time": "2018-12-31T11:45:25.890Z"
    },
    "scrolled": true
   },
   "outputs": [],
   "source": [
    "prob_pre_test = clf.predict(test_fillna_feat)\n",
    "\n",
    "num_clicks = list(test_y['click'])\n",
    "num_impressions = list(test_y['impression'])\n",
    "\n",
    "auc = scoreClickAUC(num_clicks, num_impressions, prob_pre_test)\n",
    "print(\"AUC  : %f\" % auc)"
   ]
  },
  {
   "cell_type": "code",
   "execution_count": null,
   "metadata": {
    "ExecuteTime": {
     "start_time": "2018-12-31T11:45:25.894Z"
    },
    "scrolled": true
   },
   "outputs": [],
   "source": [
    "prob_pre_test_zero = clf_zero.predict(test_fillna_feat_zero)\n",
    "\n",
    "num_clicks_zero = list(test_y_zero['click'])\n",
    "num_impressions_zero = list(test_y_zero['impression'])\n",
    "\n",
    "auc_zero = scoreClickAUC(num_clicks_zero, num_impressions_zero, prob_pre_test_zero)\n",
    "print(\"AUC  : %f\" % auc_zero)"
   ]
  },
  {
   "cell_type": "code",
   "execution_count": null,
   "metadata": {
    "ExecuteTime": {
     "start_time": "2018-12-31T11:45:25.896Z"
    },
    "collapsed": true
   },
   "outputs": [],
   "source": [
    "df_pro = pd.DataFrame({'i_id': list(test_y['i_id']), 'prob': list(prob_pre_test)})"
   ]
  },
  {
   "cell_type": "code",
   "execution_count": null,
   "metadata": {
    "ExecuteTime": {
     "start_time": "2018-12-31T11:45:25.898Z"
    },
    "collapsed": true
   },
   "outputs": [],
   "source": [
    "df_pro_zero = pd.DataFrame({'i_id': list(test_y_zero['i_id']), 'prob': list(prob_pre_test_zero)})"
   ]
  },
  {
   "cell_type": "code",
   "execution_count": null,
   "metadata": {
    "ExecuteTime": {
     "start_time": "2018-12-31T11:45:25.900Z"
    },
    "collapsed": true
   },
   "outputs": [],
   "source": [
    "df_out = pd.concat([df_pro, df_pro_zero])"
   ]
  },
  {
   "cell_type": "code",
   "execution_count": null,
   "metadata": {
    "ExecuteTime": {
     "start_time": "2018-12-31T11:45:25.902Z"
    },
    "collapsed": true
   },
   "outputs": [],
   "source": [
    "out = df_out.sort_values(by=['i_id'])"
   ]
  },
  {
   "cell_type": "code",
   "execution_count": null,
   "metadata": {
    "ExecuteTime": {
     "start_time": "2018-12-31T11:45:25.904Z"
    },
    "collapsed": true
   },
   "outputs": [],
   "source": [
    "link_df = (pd.concat([test_not_zero[['i_id', 'click', 'impression']], test_zero[['i_id', 'click', 'impression']]])).merge(out, on='i_id')"
   ]
  },
  {
   "cell_type": "code",
   "execution_count": null,
   "metadata": {
    "ExecuteTime": {
     "start_time": "2018-12-31T11:45:25.906Z"
    },
    "collapsed": true
   },
   "outputs": [],
   "source": [
    "# (link_df.shape[0] - link_df.count()) / link_df.shape[0]"
   ]
  },
  {
   "cell_type": "code",
   "execution_count": null,
   "metadata": {
    "ExecuteTime": {
     "start_time": "2018-12-31T11:45:25.908Z"
    },
    "collapsed": true
   },
   "outputs": [],
   "source": [
    "link_df = link_df.sort_values(by=['i_id'])"
   ]
  },
  {
   "cell_type": "code",
   "execution_count": null,
   "metadata": {
    "ExecuteTime": {
     "start_time": "2018-12-31T11:45:25.911Z"
    },
    "scrolled": true
   },
   "outputs": [],
   "source": [
    "num_clicks = list(link_df['click'])\n",
    "num_impressions = list(link_df['impression'])\n",
    "\n",
    "auc = scoreClickAUC(num_clicks, num_impressions, list(link_df['prob']))\n",
    "print(\"AUC  : %f\" % auc)"
   ]
  },
  {
   "cell_type": "code",
   "execution_count": null,
   "metadata": {
    "ExecuteTime": {
     "start_time": "2018-12-31T11:45:25.913Z"
    }
   },
   "outputs": [],
   "source": [
    "joblib.dump(link_df, './output/linearR_smoothing_sample_all.pkl')"
   ]
  },
  {
   "cell_type": "code",
   "execution_count": null,
   "metadata": {
    "ExecuteTime": {
     "start_time": "2018-12-31T11:45:25.916Z"
    },
    "collapsed": true
   },
   "outputs": [],
   "source": [
    "# link_df"
   ]
  },
  {
   "cell_type": "code",
   "execution_count": null,
   "metadata": {
    "ExecuteTime": {
     "start_time": "2018-12-31T11:45:25.919Z"
    },
    "collapsed": true
   },
   "outputs": [],
   "source": [
    "# prob_pre = clf.predict_proba(test)\n",
    "\n",
    "# num_clicks, num_impressions = read_solution_file('./data/KDD_Track2_solution.csv')\n",
    "\n",
    "# auc = scoreClickAUC(num_clicks, num_impressions, prob_pre[:, 1])\n",
    "# print(\"AUC  : %f\" % auc)"
   ]
  }
 ],
 "metadata": {
  "kernelspec": {
   "display_name": "Python 3",
   "language": "python",
   "name": "python3"
  },
  "language_info": {
   "codemirror_mode": {
    "name": "ipython",
    "version": 3
   },
   "file_extension": ".py",
   "mimetype": "text/x-python",
   "name": "python",
   "nbconvert_exporter": "python",
   "pygments_lexer": "ipython3",
   "version": "3.6.2"
  }
 },
 "nbformat": 4,
 "nbformat_minor": 2
}
