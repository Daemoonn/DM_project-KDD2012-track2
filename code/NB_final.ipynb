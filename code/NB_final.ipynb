{
 "cells": [
  {
   "cell_type": "code",
   "execution_count": null,
   "metadata": {
    "collapsed": true
   },
   "outputs": [],
   "source": [
    "import numpy as np\n",
    "import pandas as pd\n",
    "from sklearn.model_selection import train_test_split\n",
    "from sklearn.naive_bayes import MultinomialNB\n",
    "from sklearn.svm import LinearSVC\n",
    "from sklearn.model_selection import StratifiedKFold\n",
    "from sklearn.metrics import classification_report\n",
    "from sklearn.metrics import roc_auc_score\n",
    "from sklearn.metrics import confusion_matrix\n",
    "import gc\n",
    "import os\n",
    "PATH_DATA = './data/'"
   ]
  },
  {
   "cell_type": "code",
   "execution_count": null,
   "metadata": {
    "collapsed": true
   },
   "outputs": [],
   "source": [
    "import joblib\n",
    "training = joblib.load('./model/training.pkl')"
   ]
  },
  {
   "cell_type": "code",
   "execution_count": null,
   "metadata": {
    "collapsed": true
   },
   "outputs": [],
   "source": [
    "train_neg_sample = training.loc[training['click']==0]\n",
    "train_neg_sample1  = train_neg_sample.sample(n=3000000*2)\n",
    "train_pos_sample = training.loc[training['click']!=0]\n",
    "train_pos_sample1 = train_pos_sample.sample(n=3000000)"
   ]
  },
  {
   "cell_type": "code",
   "execution_count": null,
   "metadata": {
    "collapsed": true,
    "scrolled": true
   },
   "outputs": [],
   "source": [
    "train = pd.concat([train_neg_sample1,train_pos_sample1]).reset_index(drop=True)\n",
    "train['type']=0\n",
    "train.dtypes\n",
    "train"
   ]
  },
  {
   "cell_type": "code",
   "execution_count": null,
   "metadata": {
    "collapsed": true,
    "scrolled": true
   },
   "outputs": [],
   "source": [
    "train['click'].value_counts()"
   ]
  },
  {
   "cell_type": "code",
   "execution_count": null,
   "metadata": {
    "collapsed": true
   },
   "outputs": [],
   "source": [
    "train['impression'].sum()"
   ]
  },
  {
   "cell_type": "code",
   "execution_count": null,
   "metadata": {
    "collapsed": true,
    "scrolled": true
   },
   "outputs": [],
   "source": [
    "train.loc[train['click'] > 0, 'click'] = 1\n",
    "train"
   ]
  },
  {
   "cell_type": "code",
   "execution_count": null,
   "metadata": {
    "collapsed": true
   },
   "outputs": [],
   "source": [
    "train['click'].value_counts()"
   ]
  },
  {
   "cell_type": "code",
   "execution_count": null,
   "metadata": {
    "collapsed": true
   },
   "outputs": [],
   "source": [
    "num = train['impression'].sum()"
   ]
  },
  {
   "cell_type": "code",
   "execution_count": null,
   "metadata": {
    "collapsed": true
   },
   "outputs": [],
   "source": [
    "def convert(train_array):\n",
    "    convert_feature = np.zeros(shape=(num,13))\n",
    "    index = 0\n",
    "    for i in range(len(train_array)):\n",
    "        row = train_array[i]\n",
    "        #print(row)\n",
    "        num_of_pos = int(row[0])\n",
    "        for times in range(int(row[1])):\n",
    "            if num_of_pos !=0:\n",
    "                row[12] = int(1)\n",
    "                convert_feature[index,:] = row\n",
    "                num_of_pos = num_of_pos - 1\n",
    "            else:\n",
    "                row[12] = int(0)\n",
    "                convert_feature[index,:] = row\n",
    "            index = index + 1\n",
    "    return convert_feature\n",
    "train_array = train.values\n",
    "train_data= convert(train_array)"
   ]
  },
  {
   "cell_type": "code",
   "execution_count": null,
   "metadata": {
    "collapsed": true,
    "scrolled": true
   },
   "outputs": [],
   "source": [
    "import pandas as pd\n",
    "columns = ['click','impression', 'displayurl', 'adid', 'advertiserid', 'depth', \n",
    "                     'position', 'queryid', 'keywordid', 'titleid', 'descriptionid', 'userid','type']\n",
    "train_new = pd.DataFrame(train_data, columns=list(columns),dtype=np.int64)\n",
    "train_new[['advertiserid']] = train_new[['advertiserid']].astype('uint64')\n",
    "train_new"
   ]
  },
  {
   "cell_type": "code",
   "execution_count": null,
   "metadata": {
    "collapsed": true,
    "scrolled": true
   },
   "outputs": [],
   "source": [
    "train_new = train_new.drop_duplicates(subset=None, keep='first', inplace=False)"
   ]
  },
  {
   "cell_type": "code",
   "execution_count": null,
   "metadata": {
    "collapsed": true
   },
   "outputs": [],
   "source": [
    "train_new.shape"
   ]
  },
  {
   "cell_type": "code",
   "execution_count": null,
   "metadata": {
    "collapsed": true,
    "scrolled": true
   },
   "outputs": [],
   "source": [
    "train_new['type'].value_counts()"
   ]
  },
  {
   "cell_type": "code",
   "execution_count": null,
   "metadata": {
    "collapsed": true,
    "scrolled": true
   },
   "outputs": [],
   "source": [
    "import os\n",
    "PATH_DATA = './model/'\n",
    "test = None\n",
    "if os.path.exists(PATH_DATA + 'test.pkl'):\n",
    "    test = pd.read_pickle(PATH_DATA + 'test.pkl')\n",
    "else:\n",
    "    test = pd.read_csv(PATH_ABOVE + 'test.txt', header=None, sep='\\t', nrows=None)\n",
    "    test.columns = ['displayurl', 'adid', 'advertiserid', 'depth', 'position',\n",
    "                    'queryid', 'keywordid', 'titleid', 'descriptionid', 'userid']\n",
    "    test.to_pickle(PATH_DATA + 'test.pkl')\n",
    "test = test[['adid', 'position', 'queryid', 'keywordid', 'userid']]\n",
    "test"
   ]
  },
  {
   "cell_type": "code",
   "execution_count": null,
   "metadata": {
    "collapsed": true
   },
   "outputs": [],
   "source": [
    "X = train_new[['adid', 'position', 'queryid', 'keywordid', 'userid']]\n",
    "y = train_new[['click','impression','type']]"
   ]
  },
  {
   "cell_type": "code",
   "execution_count": null,
   "metadata": {
    "collapsed": true
   },
   "outputs": [],
   "source": [
    "from sklearn.preprocessing import OneHotEncoder\n",
    "enc = OneHotEncoder()"
   ]
  },
  {
   "cell_type": "code",
   "execution_count": null,
   "metadata": {
    "collapsed": true,
    "scrolled": true
   },
   "outputs": [],
   "source": [
    "train_test=pd.concat([X,test])\n",
    "train_test"
   ]
  },
  {
   "cell_type": "code",
   "execution_count": null,
   "metadata": {
    "collapsed": true
   },
   "outputs": [],
   "source": [
    "enc.fit(train_test)\n",
    "train_onehot = enc.transform(X)\n",
    "test_onehot = enc.transform(test)"
   ]
  },
  {
   "cell_type": "code",
   "execution_count": null,
   "metadata": {
    "collapsed": true
   },
   "outputs": [],
   "source": [
    "del train\n",
    "del test\n",
    "gc.collect()"
   ]
  },
  {
   "cell_type": "code",
   "execution_count": null,
   "metadata": {
    "collapsed": true,
    "scrolled": false
   },
   "outputs": [],
   "source": [
    "from sklearn.model_selection import train_test_split\n",
    "X_train, X_test, y_train, y_test = train_test_split(train_onehot, y, test_size=0.1, random_state=42)"
   ]
  },
  {
   "cell_type": "code",
   "execution_count": null,
   "metadata": {
    "collapsed": true
   },
   "outputs": [],
   "source": [
    "clf = MultinomialNB(0.7)\n",
    "clf.fit(X_train, y_train['type'])"
   ]
  },
  {
   "cell_type": "code",
   "execution_count": null,
   "metadata": {
    "collapsed": true
   },
   "outputs": [],
   "source": [
    "y_pred = clf.predict(X_test)"
   ]
  },
  {
   "cell_type": "code",
   "execution_count": null,
   "metadata": {
    "collapsed": true,
    "scrolled": true
   },
   "outputs": [],
   "source": [
    "y_test['click'].tolist()"
   ]
  },
  {
   "cell_type": "code",
   "execution_count": null,
   "metadata": {
    "collapsed": true
   },
   "outputs": [],
   "source": [
    "y_test['impression'].tolist()"
   ]
  },
  {
   "cell_type": "code",
   "execution_count": null,
   "metadata": {
    "collapsed": true
   },
   "outputs": [],
   "source": [
    "y_pre = clf.predict_proba(X_test)"
   ]
  },
  {
   "cell_type": "code",
   "execution_count": null,
   "metadata": {
    "collapsed": true
   },
   "outputs": [],
   "source": [
    "prob = y_pre[:,1]\n",
    "prob"
   ]
  },
  {
   "cell_type": "code",
   "execution_count": null,
   "metadata": {
    "collapsed": true
   },
   "outputs": [],
   "source": [
    "auc = scoreClickAUC(y_test['click'].tolist(), y_test['impression'].tolist(), prob)\n",
    "auc"
   ]
  },
  {
   "cell_type": "code",
   "execution_count": null,
   "metadata": {
    "collapsed": true
   },
   "outputs": [],
   "source": [
    "prob_pre = clf.predict_proba(test_onehot)"
   ]
  },
  {
   "cell_type": "code",
   "execution_count": null,
   "metadata": {
    "collapsed": true
   },
   "outputs": [],
   "source": [
    "y_pre_all = prob_pre[:, 1]"
   ]
  },
  {
   "cell_type": "code",
   "execution_count": null,
   "metadata": {
    "collapsed": true
   },
   "outputs": [],
   "source": [
    "def scoreClickAUC(num_clicks, num_impressions, predicted_ctr):\n",
    "\n",
    "    i_sorted = sorted(range(len(predicted_ctr)),key=lambda i: predicted_ctr[i],\n",
    "                      reverse=True)\n",
    "    auc_temp = 0.0\n",
    "    click_sum = 0.0\n",
    "    old_click_sum = 0.0\n",
    "    no_click = 0.0\n",
    "    no_click_sum = 0.0\n",
    "\n",
    "    # treat all instances with the same predicted_ctr as coming from the\n",
    "    # same bucket\n",
    "    last_ctr = predicted_ctr[i_sorted[0]] + 1.0\n",
    "\n",
    "    for i in range(len(predicted_ctr)):\n",
    "        if last_ctr != predicted_ctr[i_sorted[i]]: \n",
    "            auc_temp += (click_sum+old_click_sum) * no_click / 2.0        \n",
    "            old_click_sum = click_sum\n",
    "            no_click = 0.0\n",
    "            last_ctr = predicted_ctr[i_sorted[i]]\n",
    "        no_click += num_impressions[i_sorted[i]] - num_clicks[i_sorted[i]]\n",
    "        no_click_sum += num_impressions[i_sorted[i]] - num_clicks[i_sorted[i]]\n",
    "        click_sum += num_clicks[i_sorted[i]]\n",
    "    auc_temp += (click_sum+old_click_sum) * no_click / 2.0\n",
    "    auc = auc_temp / (click_sum * no_click_sum)\n",
    "    return auc"
   ]
  },
  {
   "cell_type": "code",
   "execution_count": null,
   "metadata": {
    "collapsed": true,
    "scrolled": true
   },
   "outputs": [],
   "source": [
    "solution = pd.read_csv('./data/KDD_Track2_solution.csv')"
   ]
  },
  {
   "cell_type": "code",
   "execution_count": null,
   "metadata": {
    "collapsed": true
   },
   "outputs": [],
   "source": [
    "auc = scoreClickAUC(solution['clicks'].tolist(), solution['impressions'].tolist(), y_pre_all)\n",
    "auc"
   ]
  },
  {
   "cell_type": "code",
   "execution_count": null,
   "metadata": {
    "collapsed": true
   },
   "outputs": [],
   "source": [
    "import joblib\n",
    "joblib.dump(y_pre_all,'./data/result/nb_withDrop_alpha0.7.pkl')"
   ]
  }
 ],
 "metadata": {
  "kernelspec": {
   "display_name": "Python 3",
   "language": "python",
   "name": "python3"
  },
  "language_info": {
   "codemirror_mode": {
    "name": "ipython",
    "version": 3
   },
   "file_extension": ".py",
   "mimetype": "text/x-python",
   "name": "python",
   "nbconvert_exporter": "python",
   "pygments_lexer": "ipython3",
   "version": "3.6.0"
  }
 },
 "nbformat": 4,
 "nbformat_minor": 2
}
